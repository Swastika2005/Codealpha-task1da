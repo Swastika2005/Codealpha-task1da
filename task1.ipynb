{
 "cells": [
  {
   "cell_type": "code",
   "execution_count": 6,
   "id": "4b0c7ed2-4454-41a3-818e-ac4006ea5e81",
   "metadata": {},
   "outputs": [
    {
     "name": "stdout",
     "output_type": "stream",
     "text": [
      "✅ Done! 1000 books saved to 'booksc.csv'\n"
     ]
    }
   ],
   "source": [
    "import requests\n",
    "from bs4 import BeautifulSoup\n",
    "import csv\n",
    "base_url = \"http://books.toscrape.com/catalogue/page-{}.html\"\n",
    "all_books = []\n",
    "for page in range(1, 51):\n",
    "    url = base_url.format(page)\n",
    "    response = requests.get(url)\n",
    "    if response.status_code != 200:\n",
    "        print(f\"Page {page} failed to load.\")\n",
    "        continue\n",
    "\n",
    "    soup = BeautifulSoup(response.text, \"html.parser\")\n",
    "    books = soup.find_all(\"article\", class_=\"product_pod\")\n",
    "    for book in books:\n",
    "        title = book.h3.a[\"title\"]\n",
    "        price = book.find(\"p\", class_=\"price_color\").text.strip()\n",
    "        availability = book.find(\"p\", class_=\"instock availability\").text.strip()\n",
    "        rating_class = book.find(\"p\", class_=\"star-rating\")[\"class\"]\n",
    "        rating = rating_class[1] if len(rating_class) > 1 else \"No Rating\"\n",
    "        all_books.append([title, price, availability, rating])\n",
    "with open(\"booksc.csv\", \"w\", newline=\"\", encoding=\"utf-8\") as f:\n",
    "    writer = csv.writer(f)\n",
    "    writer.writerow([\"Title\", \"Price\", \"Availability\", \"Rating\"])\n",
    "    writer.writerows(all_books)\n",
    "\n",
    "print(f\"✅ Done! {len(all_books)} books saved to 'booksc.csv'\")\n"
   ]
  },
  {
   "cell_type": "code",
   "execution_count": null,
   "id": "6af65f25-f81a-4d79-acc2-ed665ed9928b",
   "metadata": {},
   "outputs": [],
   "source": []
  }
 ],
 "metadata": {
  "kernelspec": {
   "display_name": "Python 3 (ipykernel)",
   "language": "python",
   "name": "python3"
  },
  "language_info": {
   "codemirror_mode": {
    "name": "ipython",
    "version": 3
   },
   "file_extension": ".py",
   "mimetype": "text/x-python",
   "name": "python",
   "nbconvert_exporter": "python",
   "pygments_lexer": "ipython3",
   "version": "3.12.10"
  }
 },
 "nbformat": 4,
 "nbformat_minor": 5
}
